{
 "cells": [
  {
   "cell_type": "markdown",
   "metadata": {},
   "source": [
    "### Przygotowanie danych\n",
    "\n",
    "Kod został podzielony na dwie części, ponieważ SAS oferuje zaimplementowaną metodę imputacji wielokrotnej.\n",
    "Natomiast niniejszy notatnik ma na celu przygotowanie danych do analizy właściwej."
   ]
  },
  {
   "cell_type": "code",
   "execution_count": 3,
   "metadata": {},
   "outputs": [],
   "source": [
    "import matplotlib.pyplot as plt\n",
    "import pandas as pd\n",
    "import numpy as np\n",
    "from scipy import stats\n",
    "\n",
    "data = pd.read_csv(r'C:\\Users\\mjawo\\Desktop\\portfolio\\google_app_store\\googleplaystore.csv')"
   ]
  },
  {
   "cell_type": "code",
   "execution_count": 4,
   "metadata": {},
   "outputs": [],
   "source": [
    "#proces czyszczenia i zmiany formatow danych w celu przygotowania zbioru do modelowania\n",
    "\n",
    "#dla zmiennej Installs:\n",
    "data.iloc[:,5] = data.iloc[:,5].str.replace('Free', '0')\n",
    "data.iloc[:,5] = data.iloc[:,5].str.replace('+', \"\")\n",
    "data.iloc[:,5] = data.iloc[:,5].str.replace(',', \"\")\n",
    "data.iloc[:,5] = pd.to_numeric(data.iloc[:,5])\n",
    "\n",
    "#dla zmiennej Reviews\n",
    "data.iloc[:,3] = data.iloc[:,3].str.replace('3.0M', \"3000000\")\n",
    "data.iloc[:,3] = pd.to_numeric(data.iloc[:,3])\n",
    "\n",
    "#dla zmiennej Type (pozniej jako Free)\n",
    "data.iloc[:,6] = data.iloc[:,6].str.replace('0', \"Paid\")\n",
    "\n",
    "#dla zmiennej Rating\n",
    "data = data[data['Rating'] != 19.0]"
   ]
  },
  {
   "cell_type": "code",
   "execution_count": 5,
   "metadata": {},
   "outputs": [],
   "source": [
    "#usuwanie zbednych zmiennych (zbyt wiele unikalnych wartosci czy zduplikowanych informacji)\n",
    "data = data.drop(columns=['App', 'Genres', 'Last Updated', 'Current Ver', 'Android Ver', 'Size', 'Price', 'Category',\n",
    "                         'Content Rating'])"
   ]
  },
  {
   "cell_type": "code",
   "execution_count": 6,
   "metadata": {},
   "outputs": [],
   "source": [
    "#kodowanie zmiennej Types (rezultat: zmienna Free)\n",
    "types = pd.get_dummies(data['Type'])\n",
    "data = pd.concat([data.drop(columns=['Type']), types], axis=1, join='outer')\n",
    "data = data.drop(['Paid'], axis=1)"
   ]
  },
  {
   "cell_type": "code",
   "execution_count": 7,
   "metadata": {},
   "outputs": [],
   "source": [
    "#zapisywanie nowego zbioru danych do CSV\n",
    "data.to_csv(r'C:\\Users\\mjawo\\Desktop\\portfolio\\google_app_store\\modified_google.csv', index=False)"
   ]
  },
  {
   "cell_type": "code",
   "execution_count": 8,
   "metadata": {},
   "outputs": [
    {
     "data": {
      "image/png": "[encoded data removed]",
      "text/plain": [
       "<Figure size 432x288 with 1 Axes>"
      ]
     },
     "metadata": {
      "needs_background": "light"
     },
     "output_type": "display_data"
    }
   ],
   "source": [
    "#transformacje logarytmiczne zmiennych ciągłych i tworzenie wykresów rozkładów\n",
    "data['Installs'] = data['Installs'] + 1\n",
    "data['Installs'] = data['Installs'].apply(np.log)\n",
    "plt.hist(data['Installs'], bins = 15, edgecolor='black')\n",
    "plt.show()"
   ]
  },
  {
   "cell_type": "code",
   "execution_count": 9,
   "metadata": {},
   "outputs": [
    {
     "name": "stderr",
     "output_type": "stream",
     "text": [
      "C:\\Users\\mjawo\\.julia\\conda\\3\\lib\\site-packages\\numpy\\lib\\histograms.py:754: RuntimeWarning: invalid value encountered in greater_equal\n",
      "  keep = (tmp_a >= first_edge)\n",
      "C:\\Users\\mjawo\\.julia\\conda\\3\\lib\\site-packages\\numpy\\lib\\histograms.py:755: RuntimeWarning: invalid value encountered in less_equal\n",
      "  keep &= (tmp_a <= last_edge)\n"
     ]
    },
    {
     "data": {
      "image/png": "[encoded data removed]",
      "text/plain": [
       "<Figure size 432x288 with 1 Axes>"
      ]
     },
     "metadata": {
      "needs_background": "light"
     },
     "output_type": "display_data"
    }
   ],
   "source": [
    "data['Rating'] = data['Rating'] + 0.001\n",
    "data['Rating'] = data['Rating'].apply(np.log)\n",
    "plt.hist(data['Rating'], bins = 15, edgecolor='black')\n",
    "plt.show()"
   ]
  },
  {
   "cell_type": "code",
   "execution_count": 10,
   "metadata": {},
   "outputs": [
    {
     "data": {
      "image/png": "[encoded data removed]",
      "text/plain": [
       "<Figure size 432x288 with 1 Axes>"
      ]
     },
     "metadata": {
      "needs_background": "light"
     },
     "output_type": "display_data"
    }
   ],
   "source": [
    "data['Reviews'] = data['Reviews'] + 1\n",
    "data['Reviews'] = data['Reviews'].apply(np.log)\n",
    "plt.hist(data['Reviews'], bins = 15, edgecolor='black')\n",
    "plt.show()"
   ]
  },
  {
   "cell_type": "code",
   "execution_count": 12,
   "metadata": {},
   "outputs": [],
   "source": [
    "#zbior z usunietymi missingami\n",
    "no_miss = data.dropna()\n",
    "data.to_csv(r'C:\\Users\\mjawo\\Desktop\\portfolio\\google_app_store\\log_google.csv', index=False)"
   ]
  },
  {
   "cell_type": "code",
   "execution_count": 13,
   "metadata": {},
   "outputs": [],
   "source": [
    "#zbior z wypełnieniem mediana\n",
    "med = data.fillna(data.median())\n",
    "med.to_csv(r'C:\\Users\\mjawo\\Desktop\\portfolio\\google_app_store\\log_google_median.csv', index=False)"
   ]
  },
  {
   "cell_type": "code",
   "execution_count": null,
   "metadata": {},
   "outputs": [],
   "source": []
  }
 ],
 "metadata": {
  "kernelspec": {
   "display_name": "Python 3",
   "language": "python",
   "name": "python3"
  },
  "language_info": {
   "codemirror_mode": {
    "name": "ipython",
    "version": 3
   },
   "file_extension": ".py",
   "mimetype": "text/x-python",
   "name": "python",
   "nbconvert_exporter": "python",
   "pygments_lexer": "ipython3",
   "version": "3.6.5"
  }
 },
 "nbformat": 4,
 "nbformat_minor": 2
}
